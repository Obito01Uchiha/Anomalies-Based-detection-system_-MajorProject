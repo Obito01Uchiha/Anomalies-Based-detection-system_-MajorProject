{
 "cells": [
  {
   "cell_type": "code",
   "execution_count": 1,
   "id": "a2c23adf",
   "metadata": {
    "_cell_guid": "b1076dfc-b9ad-4769-8c92-a6c4dae69d19",
    "_uuid": "8f2839f25d086af736a60e9eeb907d3b93b6e0e5",
    "execution": {
     "iopub.execute_input": "2024-04-21T12:27:13.994974Z",
     "iopub.status.busy": "2024-04-21T12:27:13.994446Z",
     "iopub.status.idle": "2024-04-21T12:27:15.065241Z",
     "shell.execute_reply": "2024-04-21T12:27:15.064251Z"
    },
    "papermill": {
     "duration": 1.084486,
     "end_time": "2024-04-21T12:27:15.068317",
     "exception": false,
     "start_time": "2024-04-21T12:27:13.983831",
     "status": "completed"
    },
    "tags": []
   },
   "outputs": [],
   "source": [
    "import pandas as pd"
   ]
  },
  {
   "cell_type": "code",
   "execution_count": 2,
   "id": "30d7f141",
   "metadata": {
    "execution": {
     "iopub.execute_input": "2024-04-21T12:27:15.085635Z",
     "iopub.status.busy": "2024-04-21T12:27:15.085073Z",
     "iopub.status.idle": "2024-04-21T12:27:39.848833Z",
     "shell.execute_reply": "2024-04-21T12:27:39.847537Z"
    },
    "papermill": {
     "duration": 24.775697,
     "end_time": "2024-04-21T12:27:39.851789",
     "exception": false,
     "start_time": "2024-04-21T12:27:15.076092",
     "status": "completed"
    },
    "tags": []
   },
   "outputs": [
    {
     "name": "stderr",
     "output_type": "stream",
     "text": [
      "/tmp/ipykernel_18/1919221957.py:1: DtypeWarning: Columns (1,3,5,12,24) have mixed types. Specify dtype option on import or set low_memory=False.\n",
      "  df=pd.read_csv(\"/kaggle/input/xiiotid-iiot-intrusion-dataset/X-IIoTID dataset.csv\")\n"
     ]
    }
   ],
   "source": [
    "df=pd.read_csv(\"/kaggle/input/xiiotid-iiot-intrusion-dataset/X-IIoTID dataset.csv\")"
   ]
  },
  {
   "cell_type": "code",
   "execution_count": 3,
   "id": "342bbd6d",
   "metadata": {
    "execution": {
     "iopub.execute_input": "2024-04-21T12:27:39.869181Z",
     "iopub.status.busy": "2024-04-21T12:27:39.868249Z",
     "iopub.status.idle": "2024-04-21T12:27:39.951959Z",
     "shell.execute_reply": "2024-04-21T12:27:39.950641Z"
    },
    "papermill": {
     "duration": 0.095424,
     "end_time": "2024-04-21T12:27:39.954843",
     "exception": false,
     "start_time": "2024-04-21T12:27:39.859419",
     "status": "completed"
    },
    "tags": []
   },
   "outputs": [
    {
     "data": {
      "text/plain": [
       "array(['Attack', 'Normal'], dtype=object)"
      ]
     },
     "execution_count": 3,
     "metadata": {},
     "output_type": "execute_result"
    }
   ],
   "source": [
    "df['class3'].unique()"
   ]
  },
  {
   "cell_type": "code",
   "execution_count": 4,
   "id": "52a1a911",
   "metadata": {
    "execution": {
     "iopub.execute_input": "2024-04-21T12:27:39.972537Z",
     "iopub.status.busy": "2024-04-21T12:27:39.971670Z",
     "iopub.status.idle": "2024-04-21T12:27:57.002868Z",
     "shell.execute_reply": "2024-04-21T12:27:57.001627Z"
    },
    "papermill": {
     "duration": 17.043645,
     "end_time": "2024-04-21T12:27:57.006281",
     "exception": false,
     "start_time": "2024-04-21T12:27:39.962636",
     "status": "completed"
    },
    "tags": []
   },
   "outputs": [
    {
     "name": "stderr",
     "output_type": "stream",
     "text": [
      "/tmp/ipykernel_18/65053601.py:1: DtypeWarning: Columns (1,3,5,12,24) have mixed types. Specify dtype option on import or set low_memory=False.\n",
      "  df_1=pd.read_csv(\"/kaggle/input/xiiotid-iiot-intrusion-dataset/X-IIoTID dataset.csv\")\n"
     ]
    }
   ],
   "source": [
    "df_1=pd.read_csv(\"/kaggle/input/xiiotid-iiot-intrusion-dataset/X-IIoTID dataset.csv\")"
   ]
  },
  {
   "cell_type": "code",
   "execution_count": 5,
   "id": "2bdf3c34",
   "metadata": {
    "execution": {
     "iopub.execute_input": "2024-04-21T12:27:57.024235Z",
     "iopub.status.busy": "2024-04-21T12:27:57.023827Z",
     "iopub.status.idle": "2024-04-21T12:28:01.610866Z",
     "shell.execute_reply": "2024-04-21T12:28:01.609653Z"
    },
    "papermill": {
     "duration": 4.600163,
     "end_time": "2024-04-21T12:28:01.614387",
     "exception": false,
     "start_time": "2024-04-21T12:27:57.014224",
     "status": "completed"
    },
    "tags": []
   },
   "outputs": [
    {
     "name": "stdout",
     "output_type": "stream",
     "text": [
      "<class 'pandas.core.frame.DataFrame'>\n",
      "RangeIndex: 820834 entries, 0 to 820833\n",
      "Data columns (total 68 columns):\n",
      " #   Column                       Non-Null Count   Dtype \n",
      "---  ------                       --------------   ----- \n",
      " 0   Date                         820503 non-null  object\n",
      " 1   Timestamp                    820537 non-null  object\n",
      " 2   Scr_IP                       820834 non-null  object\n",
      " 3   Scr_port                     820834 non-null  object\n",
      " 4   Des_IP                       820834 non-null  object\n",
      " 5   Des_port                     820834 non-null  object\n",
      " 6   Protocol                     820834 non-null  object\n",
      " 7   Service                      820834 non-null  object\n",
      " 8   Duration                     820834 non-null  object\n",
      " 9   Scr_bytes                    820834 non-null  object\n",
      " 10  Des_bytes                    820834 non-null  object\n",
      " 11  Conn_state                   820834 non-null  int64 \n",
      " 12  missed_bytes                 820834 non-null  object\n",
      " 13  is_syn_only                  820834 non-null  bool  \n",
      " 14  Is_SYN_ACK                   820834 non-null  bool  \n",
      " 15  is_pure_ack                  820834 non-null  bool  \n",
      " 16  is_with_payload              820834 non-null  bool  \n",
      " 17  FIN or RST                   820834 non-null  bool  \n",
      " 18  Bad_checksum                 820834 non-null  bool  \n",
      " 19  is_SYN_with_RST              820834 non-null  bool  \n",
      " 20  Scr_pkts                     820834 non-null  object\n",
      " 21  Scr_ip_bytes                 820834 non-null  object\n",
      " 22  Des_pkts                     820834 non-null  object\n",
      " 23  Des_ip_bytes                 820834 non-null  object\n",
      " 24  anomaly_alert                820834 non-null  object\n",
      " 25  total_bytes                  820834 non-null  object\n",
      " 26  total_packet                 820834 non-null  object\n",
      " 27  paket_rate                   820834 non-null  object\n",
      " 28  byte_rate                    820834 non-null  object\n",
      " 29  Scr_packts_ratio             820834 non-null  object\n",
      " 30  Des_pkts_ratio               820834 non-null  object\n",
      " 31  Scr_bytes_ratio              820834 non-null  object\n",
      " 32  Des_bytes_ratio              820834 non-null  object\n",
      " 33  Avg_user_time                820834 non-null  object\n",
      " 34  Std_user_time                820834 non-null  object\n",
      " 35  Avg_nice_time                820834 non-null  object\n",
      " 36  Std_nice_time                820834 non-null  object\n",
      " 37  Avg_system_time              820834 non-null  object\n",
      " 38  Std_system_time              820834 non-null  object\n",
      " 39  Avg_iowait_time              820834 non-null  object\n",
      " 40  Std_iowait_time              820834 non-null  object\n",
      " 41  Avg_ideal_time               820834 non-null  object\n",
      " 42  Std_ideal_time               820834 non-null  object\n",
      " 43  Avg_tps                      820834 non-null  object\n",
      " 44  Std_tps                      820834 non-null  object\n",
      " 45  Avg_rtps                     820834 non-null  object\n",
      " 46  Std_rtps                     820834 non-null  object\n",
      " 47  Avg_wtps                     820834 non-null  object\n",
      " 48  Std_wtps                     820834 non-null  object\n",
      " 49  Avg_ldavg_1                  820834 non-null  object\n",
      " 50  Std_ldavg_1                  820834 non-null  object\n",
      " 51  Avg_kbmemused                820834 non-null  object\n",
      " 52  Std_kbmemused                820834 non-null  object\n",
      " 53  Avg_num_Proc/s               820834 non-null  object\n",
      " 54  Std_num_proc/s               820834 non-null  object\n",
      " 55  Avg_num_cswch/s              820834 non-null  object\n",
      " 56  std_num_cswch/s              820834 non-null  object\n",
      " 57  OSSEC_alert                  820834 non-null  int64 \n",
      " 58  OSSEC_alert_level            820834 non-null  int64 \n",
      " 59  Login_attempt                820834 non-null  int64 \n",
      " 60  Succesful_login              820834 non-null  int64 \n",
      " 61  File_activity                820834 non-null  int64 \n",
      " 62  Process_activity             820834 non-null  int64 \n",
      " 63  read_write_physical.process  820834 non-null  int64 \n",
      " 64  is_privileged                820834 non-null  int64 \n",
      " 65  class1                       820834 non-null  object\n",
      " 66  class2                       820834 non-null  object\n",
      " 67  class3                       820834 non-null  object\n",
      "dtypes: bool(7), int64(9), object(52)\n",
      "memory usage: 387.5+ MB\n"
     ]
    }
   ],
   "source": [
    "df_1.info()"
   ]
  },
  {
   "cell_type": "code",
   "execution_count": 6,
   "id": "71aa58fa",
   "metadata": {
    "execution": {
     "iopub.execute_input": "2024-04-21T12:28:01.632422Z",
     "iopub.status.busy": "2024-04-21T12:28:01.632010Z",
     "iopub.status.idle": "2024-04-21T12:28:35.735768Z",
     "shell.execute_reply": "2024-04-21T12:28:35.734765Z"
    },
    "papermill": {
     "duration": 34.116393,
     "end_time": "2024-04-21T12:28:35.738976",
     "exception": false,
     "start_time": "2024-04-21T12:28:01.622583",
     "status": "completed"
    },
    "tags": []
   },
   "outputs": [],
   "source": [
    ">>> from sklearn.preprocessing import LabelEncoder\n",
    ">>> le = LabelEncoder()\n",
    "# df_2=df_1\n",
    "col_det=['Date','Bad_checksum','is_SYN_with_RST','Timestamp']\n",
    "col_obj=['Protocol','Scr_IP','Des_IP','Service','is_syn_only','Is_SYN_ACK','is_pure_ack','is_with_payload','FIN or RST','anomaly_alert','class1','class2']\n",
    "col_stand=['Scr_port','Des_port']\n",
    "# col_check=['missed_bytes','']\n",
    "col_convert_folat=['Scr_pkts','Scr_port','Des_port','Des_bytes','missed_bytes','Scr_ip_bytes','Duration','Scr_bytes','Des_bytes','Des_pkts','Des_ip_bytes','anomaly_alert','total_bytes','total_packet','paket_rate','byte_rate','Scr_packts_ratio','Des_pkts_ratio','Scr_bytes_ratio','Des_bytes_ratio','Avg_user_time','Std_user_time','Avg_nice_time','Std_nice_time','Avg_system_time','Std_system_time','Avg_iowait_time','Std_iowait_time','Avg_ideal_time','Std_ideal_time','Avg_tps','Std_tps','Avg_rtps','Std_rtps','Avg_wtps','Std_wtps','Avg_ldavg_1','Std_ldavg_1','Avg_kbmemused','Std_kbmemused','Avg_num_Proc/s','Std_num_proc/s'\n",
    ",'Avg_num_cswch/s','std_num_cswch/s']\n",
    "for i in col_det:\n",
    "    df_1.drop([i],axis=1,inplace=True)\n",
    "    # for col in col_convert_folat:\n",
    "#     df_1[col] = df_1[col].apply(lambda x: float(x))\n",
    "for col in col_convert_folat:\n",
    "    df_1[col] = pd.to_numeric(df_1[col], errors='coerce')\n",
    "for i in col_obj:\n",
    "    df_1[i]=le.fit_transform(df_1[i])"
   ]
  },
  {
   "cell_type": "code",
   "execution_count": 7,
   "id": "b6dbe724",
   "metadata": {
    "execution": {
     "iopub.execute_input": "2024-04-21T12:28:35.757864Z",
     "iopub.status.busy": "2024-04-21T12:28:35.757429Z",
     "iopub.status.idle": "2024-04-21T12:28:35.943684Z",
     "shell.execute_reply": "2024-04-21T12:28:35.941833Z"
    },
    "papermill": {
     "duration": 0.199729,
     "end_time": "2024-04-21T12:28:35.947527",
     "exception": false,
     "start_time": "2024-04-21T12:28:35.747798",
     "status": "completed"
    },
    "tags": []
   },
   "outputs": [
    {
     "name": "stdout",
     "output_type": "stream",
     "text": [
      "<class 'pandas.core.frame.DataFrame'>\n",
      "RangeIndex: 820834 entries, 0 to 820833\n",
      "Data columns (total 64 columns):\n",
      " #   Column                       Non-Null Count   Dtype  \n",
      "---  ------                       --------------   -----  \n",
      " 0   Scr_IP                       820834 non-null  int64  \n",
      " 1   Scr_port                     820680 non-null  float64\n",
      " 2   Des_IP                       820834 non-null  int64  \n",
      " 3   Des_port                     820680 non-null  float64\n",
      " 4   Protocol                     820834 non-null  int64  \n",
      " 5   Service                      820834 non-null  int64  \n",
      " 6   Duration                     745073 non-null  float64\n",
      " 7   Scr_bytes                    596963 non-null  float64\n",
      " 8   Des_bytes                    596963 non-null  float64\n",
      " 9   Conn_state                   820834 non-null  int64  \n",
      " 10  missed_bytes                 820680 non-null  float64\n",
      " 11  is_syn_only                  820834 non-null  int64  \n",
      " 12  Is_SYN_ACK                   820834 non-null  int64  \n",
      " 13  is_pure_ack                  820834 non-null  int64  \n",
      " 14  is_with_payload              820834 non-null  int64  \n",
      " 15  FIN or RST                   820834 non-null  int64  \n",
      " 16  Scr_pkts                     668091 non-null  float64\n",
      " 17  Scr_ip_bytes                 668090 non-null  float64\n",
      " 18  Des_pkts                     668091 non-null  float64\n",
      " 19  Des_ip_bytes                 668091 non-null  float64\n",
      " 20  anomaly_alert                820834 non-null  int64  \n",
      " 21  total_bytes                  596962 non-null  float64\n",
      " 22  total_packet                 668091 non-null  float64\n",
      " 23  paket_rate                   596963 non-null  float64\n",
      " 24  byte_rate                    596962 non-null  float64\n",
      " 25  Scr_packts_ratio             668091 non-null  float64\n",
      " 26  Des_pkts_ratio               668091 non-null  float64\n",
      " 27  Scr_bytes_ratio              596962 non-null  float64\n",
      " 28  Des_bytes_ratio              596962 non-null  float64\n",
      " 29  Avg_user_time                820334 non-null  float64\n",
      " 30  Std_user_time                820354 non-null  float64\n",
      " 31  Avg_nice_time                820354 non-null  float64\n",
      " 32  Std_nice_time                820354 non-null  float64\n",
      " 33  Avg_system_time              820349 non-null  float64\n",
      " 34  Std_system_time              820349 non-null  float64\n",
      " 35  Avg_iowait_time              820349 non-null  float64\n",
      " 36  Std_iowait_time              820349 non-null  float64\n",
      " 37  Avg_ideal_time               820354 non-null  float64\n",
      " 38  Std_ideal_time               820354 non-null  float64\n",
      " 39  Avg_tps                      820342 non-null  float64\n",
      " 40  Std_tps                      820342 non-null  float64\n",
      " 41  Avg_rtps                     820342 non-null  float64\n",
      " 42  Std_rtps                     820342 non-null  float64\n",
      " 43  Avg_wtps                     820342 non-null  float64\n",
      " 44  Std_wtps                     820342 non-null  float64\n",
      " 45  Avg_ldavg_1                  820308 non-null  float64\n",
      " 46  Std_ldavg_1                  820308 non-null  float64\n",
      " 47  Avg_kbmemused                819721 non-null  float64\n",
      " 48  Std_kbmemused                819721 non-null  float64\n",
      " 49  Avg_num_Proc/s               820355 non-null  float64\n",
      " 50  Std_num_proc/s               820355 non-null  float64\n",
      " 51  Avg_num_cswch/s              820355 non-null  float64\n",
      " 52  std_num_cswch/s              820355 non-null  float64\n",
      " 53  OSSEC_alert                  820834 non-null  int64  \n",
      " 54  OSSEC_alert_level            820834 non-null  int64  \n",
      " 55  Login_attempt                820834 non-null  int64  \n",
      " 56  Succesful_login              820834 non-null  int64  \n",
      " 57  File_activity                820834 non-null  int64  \n",
      " 58  Process_activity             820834 non-null  int64  \n",
      " 59  read_write_physical.process  820834 non-null  int64  \n",
      " 60  is_privileged                820834 non-null  int64  \n",
      " 61  class1                       820834 non-null  int64  \n",
      " 62  class2                       820834 non-null  int64  \n",
      " 63  class3                       820834 non-null  object \n",
      "dtypes: float64(42), int64(21), object(1)\n",
      "memory usage: 400.8+ MB\n"
     ]
    }
   ],
   "source": [
    "df_1.info()"
   ]
  },
  {
   "cell_type": "markdown",
   "id": "5fb3463b",
   "metadata": {
    "papermill": {
     "duration": 0.007965,
     "end_time": "2024-04-21T12:28:35.963811",
     "exception": false,
     "start_time": "2024-04-21T12:28:35.955846",
     "status": "completed"
    },
    "tags": []
   },
   "source": [
    "random forest\n",
    "svm\n",
    "knn\n",
    "kmeans"
   ]
  },
  {
   "cell_type": "code",
   "execution_count": 8,
   "id": "ec01870a",
   "metadata": {
    "execution": {
     "iopub.execute_input": "2024-04-21T12:28:35.982309Z",
     "iopub.status.busy": "2024-04-21T12:28:35.981554Z",
     "iopub.status.idle": "2024-04-21T12:28:36.388768Z",
     "shell.execute_reply": "2024-04-21T12:28:36.387462Z"
    },
    "papermill": {
     "duration": 0.419591,
     "end_time": "2024-04-21T12:28:36.391540",
     "exception": false,
     "start_time": "2024-04-21T12:28:35.971949",
     "status": "completed"
    },
    "tags": []
   },
   "outputs": [],
   "source": [
    "df_1_f = df_1.fillna(0)"
   ]
  },
  {
   "cell_type": "code",
   "execution_count": 9,
   "id": "9404328f",
   "metadata": {
    "execution": {
     "iopub.execute_input": "2024-04-21T12:28:36.412854Z",
     "iopub.status.busy": "2024-04-21T12:28:36.411592Z",
     "iopub.status.idle": "2024-04-21T12:28:38.099270Z",
     "shell.execute_reply": "2024-04-21T12:28:38.098194Z"
    },
    "papermill": {
     "duration": 1.700645,
     "end_time": "2024-04-21T12:28:38.102297",
     "exception": false,
     "start_time": "2024-04-21T12:28:36.401652",
     "status": "completed"
    },
    "tags": []
   },
   "outputs": [],
   "source": [
    "from sklearn.ensemble import RandomForestClassifier\n",
    "# from sklearn.datasets import load_iris\n",
    "from sklearn.model_selection import train_test_split\n",
    "from sklearn.metrics import accuracy_score\n",
    "\n",
    "# Load iris dataset\n",
    "# iris = load_iris()\n",
    "# X, y = iris.data, iris.target\n",
    "X=df_1_f.drop(['class3'],axis=1)\n",
    "y=df_1_f['class3']\n",
    "\n",
    "# Split data into training and testing sets\n",
    "X_train, X_test, y_train, y_test = train_test_split(X, y, test_size=0.2, random_state=42)\n"
   ]
  },
  {
   "cell_type": "code",
   "execution_count": 10,
   "id": "7e125d7f",
   "metadata": {
    "execution": {
     "iopub.execute_input": "2024-04-21T12:28:38.121612Z",
     "iopub.status.busy": "2024-04-21T12:28:38.120381Z",
     "iopub.status.idle": "2024-04-21T12:33:01.467566Z",
     "shell.execute_reply": "2024-04-21T12:33:01.466322Z"
    },
    "papermill": {
     "duration": 263.368187,
     "end_time": "2024-04-21T12:33:01.478738",
     "exception": false,
     "start_time": "2024-04-21T12:28:38.110551",
     "status": "completed"
    },
    "tags": []
   },
   "outputs": [
    {
     "name": "stdout",
     "output_type": "stream",
     "text": [
      "Random Forest Classifier Accuracy: 1.0\n"
     ]
    }
   ],
   "source": [
    "# Initialize and train Random Forest classifier\n",
    "rf_classifier = RandomForestClassifier(n_estimators=100, random_state=42)\n",
    "rf_classifier.fit(X_train, y_train)\n",
    "\n",
    "# Make predictions on the test set\n",
    "y_pred = rf_classifier.predict(X_test)\n",
    "\n",
    "# Calculate accuracy\n",
    "accuracy = accuracy_score(y_test, y_pred)\n",
    "print(\"Random Forest Classifier Accuracy:\", accuracy)\n"
   ]
  },
  {
   "cell_type": "code",
   "execution_count": 11,
   "id": "4bcf491c",
   "metadata": {
    "execution": {
     "iopub.execute_input": "2024-04-21T12:33:01.497164Z",
     "iopub.status.busy": "2024-04-21T12:33:01.496751Z",
     "iopub.status.idle": "2024-04-21T12:33:03.501401Z",
     "shell.execute_reply": "2024-04-21T12:33:03.500157Z"
    },
    "papermill": {
     "duration": 2.017031,
     "end_time": "2024-04-21T12:33:03.504081",
     "exception": false,
     "start_time": "2024-04-21T12:33:01.487050",
     "status": "completed"
    },
    "tags": []
   },
   "outputs": [
    {
     "data": {
      "text/html": [
       "<div>\n",
       "<style scoped>\n",
       "    .dataframe tbody tr th:only-of-type {\n",
       "        vertical-align: middle;\n",
       "    }\n",
       "\n",
       "    .dataframe tbody tr th {\n",
       "        vertical-align: top;\n",
       "    }\n",
       "\n",
       "    .dataframe thead th {\n",
       "        text-align: right;\n",
       "    }\n",
       "</style>\n",
       "<table border=\"1\" class=\"dataframe\">\n",
       "  <thead>\n",
       "    <tr style=\"text-align: right;\">\n",
       "      <th></th>\n",
       "      <th>Predicted Negative</th>\n",
       "      <th>Predicted Positive</th>\n",
       "    </tr>\n",
       "  </thead>\n",
       "  <tbody>\n",
       "    <tr>\n",
       "      <th>True Negative</th>\n",
       "      <td>79864</td>\n",
       "      <td>0</td>\n",
       "    </tr>\n",
       "    <tr>\n",
       "      <th>True Positive</th>\n",
       "      <td>0</td>\n",
       "      <td>84303</td>\n",
       "    </tr>\n",
       "  </tbody>\n",
       "</table>\n",
       "</div>"
      ],
      "text/plain": [
       "               Predicted Negative  Predicted Positive\n",
       "True Negative               79864                   0\n",
       "True Positive                   0               84303"
      ]
     },
     "execution_count": 11,
     "metadata": {},
     "output_type": "execute_result"
    }
   ],
   "source": [
    "from sklearn.metrics import confusion_matrix\n",
    "import pandas as pd\n",
    "\n",
    "def compute_confusion_matrix(true_labels, predicted_labels):\n",
    "    # Compute confusion matrix\n",
    "    cm = confusion_matrix(true_labels, predicted_labels)\n",
    "    \n",
    "    # Convert confusion matrix to DataFrame for better visualization\n",
    "    cm_df = pd.DataFrame(cm, index=['True Negative', 'True Positive'], columns=['Predicted Negative', 'Predicted Positive'])\n",
    "    \n",
    "    return cm_df\n",
    "\n",
    "compute_confusion_matrix(y_test, y_pred)"
   ]
  },
  {
   "cell_type": "code",
   "execution_count": 12,
   "id": "fbd7d213",
   "metadata": {
    "execution": {
     "iopub.execute_input": "2024-04-21T12:33:03.523382Z",
     "iopub.status.busy": "2024-04-21T12:33:03.522964Z",
     "iopub.status.idle": "2024-04-21T12:33:03.602694Z",
     "shell.execute_reply": "2024-04-21T12:33:03.601622Z"
    },
    "papermill": {
     "duration": 0.092539,
     "end_time": "2024-04-21T12:33:03.605434",
     "exception": false,
     "start_time": "2024-04-21T12:33:03.512895",
     "status": "completed"
    },
    "tags": []
   },
   "outputs": [
    {
     "data": {
      "text/plain": [
       "array(['Attack', 'Normal'], dtype=object)"
      ]
     },
     "execution_count": 12,
     "metadata": {},
     "output_type": "execute_result"
    }
   ],
   "source": [
    "df_1['class3'].unique()"
   ]
  },
  {
   "cell_type": "code",
   "execution_count": 13,
   "id": "b14072d0",
   "metadata": {
    "execution": {
     "iopub.execute_input": "2024-04-21T12:33:03.624949Z",
     "iopub.status.busy": "2024-04-21T12:33:03.624492Z",
     "iopub.status.idle": "2024-04-21T12:33:05.127442Z",
     "shell.execute_reply": "2024-04-21T12:33:05.125987Z"
    },
    "papermill": {
     "duration": 1.516193,
     "end_time": "2024-04-21T12:33:05.130475",
     "exception": false,
     "start_time": "2024-04-21T12:33:03.614282",
     "status": "completed"
    },
    "tags": []
   },
   "outputs": [],
   "source": [
    "from sklearn.ensemble import RandomForestClassifier\n",
    "# from sklearn.datasets import load_iris\n",
    "from sklearn.model_selection import train_test_split\n",
    "from sklearn.metrics import accuracy_score\n",
    "\n",
    "# Load iris dataset\n",
    "# iris = load_iris()\n",
    "# X, y = iris.data, iris.target\n",
    "X_1=df_1_f.drop(['class3','class1','class2'],axis=1)\n",
    "y_1=df_1_f['class2']\n",
    "\n",
    "# Split data into training and testing sets\n",
    "X_train_1, X_test_1, y_train_1, y_test_1 = train_test_split(X_1, y_1, test_size=0.2, random_state=42)\n"
   ]
  },
  {
   "cell_type": "code",
   "execution_count": 14,
   "id": "3cb16e16",
   "metadata": {
    "execution": {
     "iopub.execute_input": "2024-04-21T12:33:05.150956Z",
     "iopub.status.busy": "2024-04-21T12:33:05.149953Z",
     "iopub.status.idle": "2024-04-21T12:41:07.247979Z",
     "shell.execute_reply": "2024-04-21T12:41:07.246639Z"
    },
    "papermill": {
     "duration": 482.121668,
     "end_time": "2024-04-21T12:41:07.261052",
     "exception": false,
     "start_time": "2024-04-21T12:33:05.139384",
     "status": "completed"
    },
    "tags": []
   },
   "outputs": [
    {
     "name": "stdout",
     "output_type": "stream",
     "text": [
      "Random Forest Classifier Accuracy: 0.9991167530624303\n"
     ]
    }
   ],
   "source": [
    "# Initialize and train Random Forest classifier\n",
    "rf_classifier_1 = RandomForestClassifier(n_estimators=100, random_state=42)\n",
    "rf_classifier_1.fit(X_train_1, y_train_1)\n",
    "\n",
    "# Make predictions on the test set\n",
    "y_pred_1 = rf_classifier_1.predict(X_test_1)\n",
    "\n",
    "# Calculate accuracy\n",
    "accuracy_1 = accuracy_score(y_test_1, y_pred_1)\n",
    "print(\"Random Forest Classifier Accuracy:\", accuracy_1)\n"
   ]
  },
  {
   "cell_type": "code",
   "execution_count": 15,
   "id": "6ec33bd0",
   "metadata": {
    "execution": {
     "iopub.execute_input": "2024-04-21T12:41:07.281323Z",
     "iopub.status.busy": "2024-04-21T12:41:07.280876Z",
     "iopub.status.idle": "2024-04-21T12:41:07.838532Z",
     "shell.execute_reply": "2024-04-21T12:41:07.836927Z"
    },
    "papermill": {
     "duration": 0.570724,
     "end_time": "2024-04-21T12:41:07.840788",
     "exception": true,
     "start_time": "2024-04-21T12:41:07.270064",
     "status": "failed"
    },
    "tags": []
   },
   "outputs": [
    {
     "ename": "NameError",
     "evalue": "name 'sns' is not defined",
     "output_type": "error",
     "traceback": [
      "\u001b[0;31m---------------------------------------------------------------------------\u001b[0m",
      "\u001b[0;31mNameError\u001b[0m                                 Traceback (most recent call last)",
      "Cell \u001b[0;32mIn[15], line 14\u001b[0m\n\u001b[1;32m     11\u001b[0m     \u001b[38;5;28;01mreturn\u001b[39;00m cm\n\u001b[1;32m     13\u001b[0m cm\u001b[38;5;241m=\u001b[39mcompute_confusion_matrix(y_test_1, y_pred_1)\n\u001b[0;32m---> 14\u001b[0m \u001b[43msns\u001b[49m\u001b[38;5;241m.\u001b[39mheatmap(cm)\n",
      "\u001b[0;31mNameError\u001b[0m: name 'sns' is not defined"
     ]
    }
   ],
   "source": [
    "from sklearn.metrics import confusion_matrix\n",
    "import pandas as pd\n",
    "\n",
    "def compute_confusion_matrix(true_labels, predicted_labels):\n",
    "    # Compute confusion matrix\n",
    "    cm = confusion_matrix(true_labels, predicted_labels)\n",
    "    \n",
    "    # Convert confusion matrix to DataFrame for better visualization\n",
    "#     cm_df = pd.DataFrame(cm, index=['True Negative', 'True Positive'], columns=['Predicted Negative', 'Predicted Positive'])\n",
    "    \n",
    "    return cm\n",
    "\n",
    "cm=compute_confusion_matrix(y_test_1, y_pred_1)\n",
    "sns.heatmap(cm)"
   ]
  },
  {
   "cell_type": "code",
   "execution_count": null,
   "id": "16a78220",
   "metadata": {
    "execution": {
     "iopub.execute_input": "2024-04-21T11:17:18.767721Z",
     "iopub.status.busy": "2024-04-21T11:17:18.767324Z",
     "iopub.status.idle": "2024-04-21T11:17:39.321744Z",
     "shell.execute_reply": "2024-04-21T11:17:39.320042Z",
     "shell.execute_reply.started": "2024-04-21T11:17:18.767691Z"
    },
    "papermill": {
     "duration": null,
     "end_time": null,
     "exception": null,
     "start_time": null,
     "status": "pending"
    },
    "tags": []
   },
   "outputs": [],
   "source": [
    "\n",
    "\n",
    "import seaborn as sns\n",
    "import matplotlib.pyplot as plt\n",
    "from sklearn.model_selection import train_test_split\n",
    "from sklearn.ensemble import RandomForestClassifier\n",
    "from sklearn.metrics import classification_report, confusion_matrix\n",
    "classification_rep = classification_report(y_test, y_pred)\n",
    "confusion_mat = confusion_matrix(y_test, y_pred)\n",
    "\n",
    "    # Visualize confusion matrix\n",
    "plt.figure(figsize=(8, 6))\n",
    "sns.heatmap(confusion_mat, annot=True, fmt='d', cmap='Blues')\n",
    "plt.title('Confusion Matrix')\n",
    "plt.xlabel('Predicted Label')\n",
    "plt.ylabel('True Label')\n",
    "plt.show()\n",
    "\n",
    "    # Create report dictionary\n",
    "report = {\n",
    "    'classification_report': classification_rep,\n",
    "    'confusion_matrix': confusion_mat\n",
    "        # Add more analysis findings as needed\n",
    "}\n",
    "print(report)"
   ]
  },
  {
   "cell_type": "markdown",
   "id": "acddd48e",
   "metadata": {
    "papermill": {
     "duration": null,
     "end_time": null,
     "exception": null,
     "start_time": null,
     "status": "pending"
    },
    "tags": []
   },
   "source": [
    "class 1\n",
    "\n",
    "array(['Scanning_vulnerability', 'Normal', 'RDOS', 'Generic_scanning',\n",
    "       'BruteForce', 'Discovering_resources',\n",
    "       'MQTT_cloud_broker_subscription', 'Exfiltration',\n",
    "       'insider_malcious', 'Dictionary', 'Modbus_register_reading',\n",
    "       'Reverse_shell', 'False_data_injection', 'fuzzing', 'TCP Relay',\n",
    "       'MitM', 'C&C', 'Fake_notification', 'crypto-ransomware'],\n",
    "      dtype=object)\n",
    "array([14, 11, 12,  7,  0,  3,  8,  4, 18,  2, 10, 13,  6, 17, 15,  9,  1,\n",
    "        5, 16])\n",
    "       \n",
    "/n\n",
    "class2\n",
    "\n",
    "array(['Reconnaissance', 'Normal', 'RDOS', 'Weaponization',\n",
    "       'Lateral _movement', 'Exfiltration', 'Exploitation', 'Tampering',\n",
    "       'C&C', 'crypto-ransomware'], dtype=object)\n",
    "array([6, 4, 5, 8, 3, 1, 2, 7, 0, 9])\n",
    "\n",
    "class3\n",
    "array(['Attack', 'Normal'], dtype=object)"
   ]
  },
  {
   "cell_type": "code",
   "execution_count": null,
   "id": "a449513f",
   "metadata": {
    "execution": {
     "iopub.execute_input": "2024-04-21T11:31:28.241082Z",
     "iopub.status.busy": "2024-04-21T11:31:28.240223Z",
     "iopub.status.idle": "2024-04-21T11:31:28.261046Z",
     "shell.execute_reply": "2024-04-21T11:31:28.259722Z",
     "shell.execute_reply.started": "2024-04-21T11:31:28.241048Z"
    },
    "papermill": {
     "duration": null,
     "end_time": null,
     "exception": null,
     "start_time": null,
     "status": "pending"
    },
    "tags": []
   },
   "outputs": [],
   "source": [
    "import pandas as pd\n",
    "\n",
    "def compute_value_probability(data, column, value):\n",
    "    # Compute the count of occurrences of the value in the column\n",
    "    value_count = data[column].value_counts().get(value, 0)\n",
    "\n",
    "    # Compute the total number of values in the column\n",
    "    total_count = data[column].count()\n",
    "\n",
    "    # Compute the probability\n",
    "    probability = value_count / total_count if total_count != 0 else 0\n",
    "\n",
    "    return probability\n",
    "\n",
    "# Example usage:\n",
    "# Assuming 'data' is your DataFrame and 'column' is the name of the column you want to analyze\n",
    "# and 'value' is the specific value for which you want to compute the probability\n",
    "probability = compute_value_probability(df_1, 'class1',12 )\n",
    "print(\"Probability of value:\", probability)\n"
   ]
  },
  {
   "cell_type": "code",
   "execution_count": null,
   "id": "b7aa5b07",
   "metadata": {
    "papermill": {
     "duration": null,
     "end_time": null,
     "exception": null,
     "start_time": null,
     "status": "pending"
    },
    "tags": []
   },
   "outputs": [],
   "source": []
  },
  {
   "cell_type": "code",
   "execution_count": null,
   "id": "3fe4fc0f",
   "metadata": {
    "papermill": {
     "duration": null,
     "end_time": null,
     "exception": null,
     "start_time": null,
     "status": "pending"
    },
    "tags": []
   },
   "outputs": [],
   "source": []
  }
 ],
 "metadata": {
  "kaggle": {
   "accelerator": "none",
   "dataSources": [
    {
     "datasetId": 1635196,
     "sourceId": 2686214,
     "sourceType": "datasetVersion"
    }
   ],
   "dockerImageVersionId": 30698,
   "isGpuEnabled": false,
   "isInternetEnabled": true,
   "language": "python",
   "sourceType": "notebook"
  },
  "kernelspec": {
   "display_name": "Python 3",
   "language": "python",
   "name": "python3"
  },
  "language_info": {
   "codemirror_mode": {
    "name": "ipython",
    "version": 3
   },
   "file_extension": ".py",
   "mimetype": "text/x-python",
   "name": "python",
   "nbconvert_exporter": "python",
   "pygments_lexer": "ipython3",
   "version": "3.10.13"
  },
  "papermill": {
   "default_parameters": {},
   "duration": 839.263386,
   "end_time": "2024-04-21T12:41:09.980960",
   "environment_variables": {},
   "exception": true,
   "input_path": "__notebook__.ipynb",
   "output_path": "__notebook__.ipynb",
   "parameters": {},
   "start_time": "2024-04-21T12:27:10.717574",
   "version": "2.5.0"
  }
 },
 "nbformat": 4,
 "nbformat_minor": 5
}
